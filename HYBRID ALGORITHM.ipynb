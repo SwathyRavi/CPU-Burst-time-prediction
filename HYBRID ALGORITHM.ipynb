{
 "cells": [
  {
   "cell_type": "markdown",
   "metadata": {},
   "source": [
    "# Predicting next remaining burst time in hybrid scheduling algorithm"
   ]
  },
  {
   "cell_type": "code",
   "execution_count": 1,
   "metadata": {},
   "outputs": [],
   "source": [
    "dict_os={'name':[],'id':[],'burst_time':[],'arrival_time':[]}"
   ]
  },
  {
   "cell_type": "code",
   "execution_count": 2,
   "metadata": {},
   "outputs": [],
   "source": [
    "import psutil\n",
    "# Iterate over all running process\n",
    "for proc in psutil.process_iter():\n",
    "    try:\n",
    "        # Get process name & pid from process object.\n",
    "        processName = proc.name()\n",
    "        cpu_time = proc.cpu_times()\n",
    "        processID = proc.pid\n",
    "        dict_os['name'].append(processName)\n",
    "        dict_os['id'].append(processID)\n",
    "        dict_os['burst_time'].append(round(cpu_time[0]+cpu_time[1]))\n",
    "        dict_os['arrival_time'].append(0)\n",
    "    except (psutil.NoSuchProcess, psutil.AccessDenied, psutil.ZombieProcess):\n",
    "        pass"
   ]
  },
  {
   "cell_type": "code",
   "execution_count": 3,
   "metadata": {},
   "outputs": [
    {
     "data": {
      "text/html": [
       "<div>\n",
       "<style scoped>\n",
       "    .dataframe tbody tr th:only-of-type {\n",
       "        vertical-align: middle;\n",
       "    }\n",
       "\n",
       "    .dataframe tbody tr th {\n",
       "        vertical-align: top;\n",
       "    }\n",
       "\n",
       "    .dataframe thead th {\n",
       "        text-align: right;\n",
       "    }\n",
       "</style>\n",
       "<table border=\"1\" class=\"dataframe\">\n",
       "  <thead>\n",
       "    <tr style=\"text-align: right;\">\n",
       "      <th></th>\n",
       "      <th>name</th>\n",
       "      <th>id</th>\n",
       "      <th>burst_time</th>\n",
       "      <th>arrival_time</th>\n",
       "    </tr>\n",
       "  </thead>\n",
       "  <tbody>\n",
       "    <tr>\n",
       "      <td>3</td>\n",
       "      <td>svchost.exe</td>\n",
       "      <td>424</td>\n",
       "      <td>37</td>\n",
       "      <td>0</td>\n",
       "    </tr>\n",
       "    <tr>\n",
       "      <td>9</td>\n",
       "      <td>services.exe</td>\n",
       "      <td>896</td>\n",
       "      <td>15</td>\n",
       "      <td>0</td>\n",
       "    </tr>\n",
       "    <tr>\n",
       "      <td>12</td>\n",
       "      <td>lsass.exe</td>\n",
       "      <td>1020</td>\n",
       "      <td>14</td>\n",
       "      <td>0</td>\n",
       "    </tr>\n",
       "    <tr>\n",
       "      <td>65</td>\n",
       "      <td>spoolsv.exe</td>\n",
       "      <td>3920</td>\n",
       "      <td>15</td>\n",
       "      <td>0</td>\n",
       "    </tr>\n",
       "    <tr>\n",
       "      <td>77</td>\n",
       "      <td>sihost.exe</td>\n",
       "      <td>4332</td>\n",
       "      <td>17</td>\n",
       "      <td>0</td>\n",
       "    </tr>\n",
       "    <tr>\n",
       "      <td>83</td>\n",
       "      <td>Lavasoft.WCAssistant.WinService.exe</td>\n",
       "      <td>4472</td>\n",
       "      <td>13</td>\n",
       "      <td>0</td>\n",
       "    </tr>\n",
       "    <tr>\n",
       "      <td>103</td>\n",
       "      <td>aswEngSrv.exe</td>\n",
       "      <td>6376</td>\n",
       "      <td>28</td>\n",
       "      <td>0</td>\n",
       "    </tr>\n",
       "    <tr>\n",
       "      <td>107</td>\n",
       "      <td>ACCStd.exe</td>\n",
       "      <td>6980</td>\n",
       "      <td>25</td>\n",
       "      <td>0</td>\n",
       "    </tr>\n",
       "    <tr>\n",
       "      <td>122</td>\n",
       "      <td>ctfmon.exe</td>\n",
       "      <td>7648</td>\n",
       "      <td>23</td>\n",
       "      <td>0</td>\n",
       "    </tr>\n",
       "    <tr>\n",
       "      <td>131</td>\n",
       "      <td>SkypeBridge.exe</td>\n",
       "      <td>8532</td>\n",
       "      <td>21</td>\n",
       "      <td>0</td>\n",
       "    </tr>\n",
       "    <tr>\n",
       "      <td>141</td>\n",
       "      <td>WebCompanion.exe</td>\n",
       "      <td>9428</td>\n",
       "      <td>17</td>\n",
       "      <td>0</td>\n",
       "    </tr>\n",
       "    <tr>\n",
       "      <td>156</td>\n",
       "      <td>ACEStd.exe</td>\n",
       "      <td>10592</td>\n",
       "      <td>14</td>\n",
       "      <td>0</td>\n",
       "    </tr>\n",
       "    <tr>\n",
       "      <td>160</td>\n",
       "      <td>SearchUI.exe</td>\n",
       "      <td>10752</td>\n",
       "      <td>22</td>\n",
       "      <td>0</td>\n",
       "    </tr>\n",
       "    <tr>\n",
       "      <td>181</td>\n",
       "      <td>WindowsInternal.ComposableShell.Experiences.Te...</td>\n",
       "      <td>14684</td>\n",
       "      <td>11</td>\n",
       "      <td>0</td>\n",
       "    </tr>\n",
       "  </tbody>\n",
       "</table>\n",
       "</div>"
      ],
      "text/plain": [
       "                                                  name     id  burst_time  \\\n",
       "3                                          svchost.exe    424          37   \n",
       "9                                         services.exe    896          15   \n",
       "12                                           lsass.exe   1020          14   \n",
       "65                                         spoolsv.exe   3920          15   \n",
       "77                                          sihost.exe   4332          17   \n",
       "83                 Lavasoft.WCAssistant.WinService.exe   4472          13   \n",
       "103                                      aswEngSrv.exe   6376          28   \n",
       "107                                         ACCStd.exe   6980          25   \n",
       "122                                         ctfmon.exe   7648          23   \n",
       "131                                    SkypeBridge.exe   8532          21   \n",
       "141                                   WebCompanion.exe   9428          17   \n",
       "156                                         ACEStd.exe  10592          14   \n",
       "160                                       SearchUI.exe  10752          22   \n",
       "181  WindowsInternal.ComposableShell.Experiences.Te...  14684          11   \n",
       "\n",
       "     arrival_time  \n",
       "3               0  \n",
       "9               0  \n",
       "12              0  \n",
       "65              0  \n",
       "77              0  \n",
       "83              0  \n",
       "103             0  \n",
       "107             0  \n",
       "122             0  \n",
       "131             0  \n",
       "141             0  \n",
       "156             0  \n",
       "160             0  \n",
       "181             0  "
      ]
     },
     "execution_count": 3,
     "metadata": {},
     "output_type": "execute_result"
    }
   ],
   "source": [
    "import pandas as pd\n",
    "df=pd.DataFrame(dict_os)\n",
    "df.drop_duplicates('name',keep='first',inplace=True)\n",
    "df=df[(df['burst_time']<50) & (df['burst_time']>10)]\n",
    "df"
   ]
  },
  {
   "cell_type": "code",
   "execution_count": 4,
   "metadata": {},
   "outputs": [
    {
     "data": {
      "text/html": [
       "<div>\n",
       "<style scoped>\n",
       "    .dataframe tbody tr th:only-of-type {\n",
       "        vertical-align: middle;\n",
       "    }\n",
       "\n",
       "    .dataframe tbody tr th {\n",
       "        vertical-align: top;\n",
       "    }\n",
       "\n",
       "    .dataframe thead th {\n",
       "        text-align: right;\n",
       "    }\n",
       "</style>\n",
       "<table border=\"1\" class=\"dataframe\">\n",
       "  <thead>\n",
       "    <tr style=\"text-align: right;\">\n",
       "      <th></th>\n",
       "      <th>name</th>\n",
       "      <th>id</th>\n",
       "      <th>burst_time</th>\n",
       "      <th>arrival_time</th>\n",
       "    </tr>\n",
       "  </thead>\n",
       "  <tbody>\n",
       "    <tr>\n",
       "      <td>0</td>\n",
       "      <td>p0</td>\n",
       "      <td>424</td>\n",
       "      <td>37</td>\n",
       "      <td>0</td>\n",
       "    </tr>\n",
       "    <tr>\n",
       "      <td>1</td>\n",
       "      <td>p1</td>\n",
       "      <td>896</td>\n",
       "      <td>15</td>\n",
       "      <td>0</td>\n",
       "    </tr>\n",
       "    <tr>\n",
       "      <td>2</td>\n",
       "      <td>p2</td>\n",
       "      <td>1020</td>\n",
       "      <td>14</td>\n",
       "      <td>0</td>\n",
       "    </tr>\n",
       "    <tr>\n",
       "      <td>3</td>\n",
       "      <td>p3</td>\n",
       "      <td>3920</td>\n",
       "      <td>15</td>\n",
       "      <td>0</td>\n",
       "    </tr>\n",
       "    <tr>\n",
       "      <td>4</td>\n",
       "      <td>p4</td>\n",
       "      <td>4332</td>\n",
       "      <td>17</td>\n",
       "      <td>0</td>\n",
       "    </tr>\n",
       "    <tr>\n",
       "      <td>5</td>\n",
       "      <td>p5</td>\n",
       "      <td>4472</td>\n",
       "      <td>13</td>\n",
       "      <td>0</td>\n",
       "    </tr>\n",
       "    <tr>\n",
       "      <td>6</td>\n",
       "      <td>p6</td>\n",
       "      <td>6376</td>\n",
       "      <td>28</td>\n",
       "      <td>0</td>\n",
       "    </tr>\n",
       "    <tr>\n",
       "      <td>7</td>\n",
       "      <td>p7</td>\n",
       "      <td>6980</td>\n",
       "      <td>25</td>\n",
       "      <td>0</td>\n",
       "    </tr>\n",
       "    <tr>\n",
       "      <td>8</td>\n",
       "      <td>p8</td>\n",
       "      <td>7648</td>\n",
       "      <td>23</td>\n",
       "      <td>0</td>\n",
       "    </tr>\n",
       "    <tr>\n",
       "      <td>9</td>\n",
       "      <td>p9</td>\n",
       "      <td>8532</td>\n",
       "      <td>21</td>\n",
       "      <td>0</td>\n",
       "    </tr>\n",
       "    <tr>\n",
       "      <td>10</td>\n",
       "      <td>p10</td>\n",
       "      <td>9428</td>\n",
       "      <td>17</td>\n",
       "      <td>0</td>\n",
       "    </tr>\n",
       "    <tr>\n",
       "      <td>11</td>\n",
       "      <td>p11</td>\n",
       "      <td>10592</td>\n",
       "      <td>14</td>\n",
       "      <td>0</td>\n",
       "    </tr>\n",
       "    <tr>\n",
       "      <td>12</td>\n",
       "      <td>p12</td>\n",
       "      <td>10752</td>\n",
       "      <td>22</td>\n",
       "      <td>0</td>\n",
       "    </tr>\n",
       "    <tr>\n",
       "      <td>13</td>\n",
       "      <td>p13</td>\n",
       "      <td>14684</td>\n",
       "      <td>11</td>\n",
       "      <td>0</td>\n",
       "    </tr>\n",
       "  </tbody>\n",
       "</table>\n",
       "</div>"
      ],
      "text/plain": [
       "   name     id  burst_time  arrival_time\n",
       "0    p0    424          37             0\n",
       "1    p1    896          15             0\n",
       "2    p2   1020          14             0\n",
       "3    p3   3920          15             0\n",
       "4    p4   4332          17             0\n",
       "5    p5   4472          13             0\n",
       "6    p6   6376          28             0\n",
       "7    p7   6980          25             0\n",
       "8    p8   7648          23             0\n",
       "9    p9   8532          21             0\n",
       "10  p10   9428          17             0\n",
       "11  p11  10592          14             0\n",
       "12  p12  10752          22             0\n",
       "13  p13  14684          11             0"
      ]
     },
     "execution_count": 4,
     "metadata": {},
     "output_type": "execute_result"
    }
   ],
   "source": [
    "name_columns=[]\n",
    "for i in range(len(df['name'].tolist())):\n",
    "    name_columns.append(f'p{i}')\n",
    "name_columns\n",
    "df['name']=name_columns\n",
    "df.reset_index(drop=True)"
   ]
  },
  {
   "cell_type": "code",
   "execution_count": 5,
   "metadata": {},
   "outputs": [],
   "source": [
    "process_names = df['name'].tolist()\n",
    "burst_times = df['burst_time'].tolist()"
   ]
  },
  {
   "cell_type": "code",
   "execution_count": 6,
   "metadata": {},
   "outputs": [],
   "source": [
    "n = len(process_names)\n",
    "time_quantum  = 2"
   ]
  },
  {
   "cell_type": "code",
   "execution_count": 7,
   "metadata": {},
   "outputs": [],
   "source": [
    "rem_brst_time_list = []\n",
    "rem_bt_it_list = []"
   ]
  },
  {
   "cell_type": "code",
   "execution_count": 8,
   "metadata": {},
   "outputs": [],
   "source": [
    "def create_rem_brst_time_list(n):\n",
    "    for i in range(n):\n",
    "        rem_brst_time_list.append([])"
   ]
  },
  {
   "cell_type": "code",
   "execution_count": 9,
   "metadata": {},
   "outputs": [],
   "source": [
    "def find_rem_wt_time(n, bt, quantum):  \n",
    "    rem_bt = [0] * n\n",
    "    for i in range(n):  \n",
    "        rem_bt[i] = bt[i] \n",
    "    while(1):\n",
    "        done = True\n",
    "        for i in range(n):  \n",
    "            if (rem_bt[i] > 0):\n",
    "                done = False\n",
    "                if (rem_bt[i] > quantum): \n",
    "                    # Decrease the burst_time of current process by quantum  \n",
    "                    rem_bt[i] -= quantum\n",
    "                    rem_brst_time_list[i].append(rem_bt[i])\n",
    "                else:\n",
    "                    rem_bt[i] = 0\n",
    "        if (done == True): \n",
    "            break"
   ]
  },
  {
   "cell_type": "code",
   "execution_count": 10,
   "metadata": {},
   "outputs": [],
   "source": [
    "def create_rem_it_list(train_data, min_length):\n",
    "    for i in range(min_length):\n",
    "        rem_bt_it_list.append([val[i] for val in train_data])"
   ]
  },
  {
   "cell_type": "code",
   "execution_count": 11,
   "metadata": {},
   "outputs": [],
   "source": [
    "def main():\n",
    "    create_rem_brst_time_list(n)\n",
    "    find_rem_wt_time(n, burst_times, time_quantum)\n",
    "    min_length = min([len(val) for val in rem_brst_time_list])\n",
    "    train_data = [val[:min_length] for val in rem_brst_time_list]\n",
    "    create_rem_it_list(train_data, min_length)\n",
    "    return train_data,min_length"
   ]
  },
  {
   "cell_type": "code",
   "execution_count": 12,
   "metadata": {},
   "outputs": [],
   "source": [
    "train_data,min_length = main()"
   ]
  },
  {
   "cell_type": "code",
   "execution_count": 13,
   "metadata": {},
   "outputs": [
    {
     "data": {
      "text/plain": [
       "[[35, 13, 12, 13, 15, 11, 26, 23, 21, 19, 15, 12, 20, 9],\n",
       " [33, 11, 10, 11, 13, 9, 24, 21, 19, 17, 13, 10, 18, 7],\n",
       " [31, 9, 8, 9, 11, 7, 22, 19, 17, 15, 11, 8, 16, 5],\n",
       " [29, 7, 6, 7, 9, 5, 20, 17, 15, 13, 9, 6, 14, 3],\n",
       " [27, 5, 4, 5, 7, 3, 18, 15, 13, 11, 7, 4, 12, 1]]"
      ]
     },
     "execution_count": 13,
     "metadata": {},
     "output_type": "execute_result"
    }
   ],
   "source": [
    "rem_bt_it_list"
   ]
  },
  {
   "cell_type": "code",
   "execution_count": 14,
   "metadata": {},
   "outputs": [],
   "source": [
    "# take only four iterations \n",
    "for i in range(4):\n",
    "    df[f'remaining_burst_time_{i+1}'] = rem_bt_it_list[i]"
   ]
  },
  {
   "cell_type": "code",
   "execution_count": 15,
   "metadata": {},
   "outputs": [
    {
     "data": {
      "text/html": [
       "<div>\n",
       "<style scoped>\n",
       "    .dataframe tbody tr th:only-of-type {\n",
       "        vertical-align: middle;\n",
       "    }\n",
       "\n",
       "    .dataframe tbody tr th {\n",
       "        vertical-align: top;\n",
       "    }\n",
       "\n",
       "    .dataframe thead th {\n",
       "        text-align: right;\n",
       "    }\n",
       "</style>\n",
       "<table border=\"1\" class=\"dataframe\">\n",
       "  <thead>\n",
       "    <tr style=\"text-align: right;\">\n",
       "      <th></th>\n",
       "      <th>name</th>\n",
       "      <th>id</th>\n",
       "      <th>burst_time</th>\n",
       "      <th>arrival_time</th>\n",
       "      <th>remaining_burst_time_1</th>\n",
       "      <th>remaining_burst_time_2</th>\n",
       "      <th>remaining_burst_time_3</th>\n",
       "      <th>remaining_burst_time_4</th>\n",
       "    </tr>\n",
       "  </thead>\n",
       "  <tbody>\n",
       "    <tr>\n",
       "      <td>0</td>\n",
       "      <td>p0</td>\n",
       "      <td>424</td>\n",
       "      <td>37</td>\n",
       "      <td>0</td>\n",
       "      <td>35</td>\n",
       "      <td>33</td>\n",
       "      <td>31</td>\n",
       "      <td>29</td>\n",
       "    </tr>\n",
       "    <tr>\n",
       "      <td>1</td>\n",
       "      <td>p1</td>\n",
       "      <td>896</td>\n",
       "      <td>15</td>\n",
       "      <td>0</td>\n",
       "      <td>13</td>\n",
       "      <td>11</td>\n",
       "      <td>9</td>\n",
       "      <td>7</td>\n",
       "    </tr>\n",
       "    <tr>\n",
       "      <td>2</td>\n",
       "      <td>p2</td>\n",
       "      <td>1020</td>\n",
       "      <td>14</td>\n",
       "      <td>0</td>\n",
       "      <td>12</td>\n",
       "      <td>10</td>\n",
       "      <td>8</td>\n",
       "      <td>6</td>\n",
       "    </tr>\n",
       "    <tr>\n",
       "      <td>3</td>\n",
       "      <td>p3</td>\n",
       "      <td>3920</td>\n",
       "      <td>15</td>\n",
       "      <td>0</td>\n",
       "      <td>13</td>\n",
       "      <td>11</td>\n",
       "      <td>9</td>\n",
       "      <td>7</td>\n",
       "    </tr>\n",
       "    <tr>\n",
       "      <td>4</td>\n",
       "      <td>p4</td>\n",
       "      <td>4332</td>\n",
       "      <td>17</td>\n",
       "      <td>0</td>\n",
       "      <td>15</td>\n",
       "      <td>13</td>\n",
       "      <td>11</td>\n",
       "      <td>9</td>\n",
       "    </tr>\n",
       "    <tr>\n",
       "      <td>5</td>\n",
       "      <td>p5</td>\n",
       "      <td>4472</td>\n",
       "      <td>13</td>\n",
       "      <td>0</td>\n",
       "      <td>11</td>\n",
       "      <td>9</td>\n",
       "      <td>7</td>\n",
       "      <td>5</td>\n",
       "    </tr>\n",
       "    <tr>\n",
       "      <td>6</td>\n",
       "      <td>p6</td>\n",
       "      <td>6376</td>\n",
       "      <td>28</td>\n",
       "      <td>0</td>\n",
       "      <td>26</td>\n",
       "      <td>24</td>\n",
       "      <td>22</td>\n",
       "      <td>20</td>\n",
       "    </tr>\n",
       "    <tr>\n",
       "      <td>7</td>\n",
       "      <td>p7</td>\n",
       "      <td>6980</td>\n",
       "      <td>25</td>\n",
       "      <td>0</td>\n",
       "      <td>23</td>\n",
       "      <td>21</td>\n",
       "      <td>19</td>\n",
       "      <td>17</td>\n",
       "    </tr>\n",
       "    <tr>\n",
       "      <td>8</td>\n",
       "      <td>p8</td>\n",
       "      <td>7648</td>\n",
       "      <td>23</td>\n",
       "      <td>0</td>\n",
       "      <td>21</td>\n",
       "      <td>19</td>\n",
       "      <td>17</td>\n",
       "      <td>15</td>\n",
       "    </tr>\n",
       "    <tr>\n",
       "      <td>9</td>\n",
       "      <td>p9</td>\n",
       "      <td>8532</td>\n",
       "      <td>21</td>\n",
       "      <td>0</td>\n",
       "      <td>19</td>\n",
       "      <td>17</td>\n",
       "      <td>15</td>\n",
       "      <td>13</td>\n",
       "    </tr>\n",
       "    <tr>\n",
       "      <td>10</td>\n",
       "      <td>p10</td>\n",
       "      <td>9428</td>\n",
       "      <td>17</td>\n",
       "      <td>0</td>\n",
       "      <td>15</td>\n",
       "      <td>13</td>\n",
       "      <td>11</td>\n",
       "      <td>9</td>\n",
       "    </tr>\n",
       "    <tr>\n",
       "      <td>11</td>\n",
       "      <td>p11</td>\n",
       "      <td>10592</td>\n",
       "      <td>14</td>\n",
       "      <td>0</td>\n",
       "      <td>12</td>\n",
       "      <td>10</td>\n",
       "      <td>8</td>\n",
       "      <td>6</td>\n",
       "    </tr>\n",
       "    <tr>\n",
       "      <td>12</td>\n",
       "      <td>p12</td>\n",
       "      <td>10752</td>\n",
       "      <td>22</td>\n",
       "      <td>0</td>\n",
       "      <td>20</td>\n",
       "      <td>18</td>\n",
       "      <td>16</td>\n",
       "      <td>14</td>\n",
       "    </tr>\n",
       "    <tr>\n",
       "      <td>13</td>\n",
       "      <td>p13</td>\n",
       "      <td>14684</td>\n",
       "      <td>11</td>\n",
       "      <td>0</td>\n",
       "      <td>9</td>\n",
       "      <td>7</td>\n",
       "      <td>5</td>\n",
       "      <td>3</td>\n",
       "    </tr>\n",
       "  </tbody>\n",
       "</table>\n",
       "</div>"
      ],
      "text/plain": [
       "   name     id  burst_time  arrival_time  remaining_burst_time_1  \\\n",
       "0    p0    424          37             0                      35   \n",
       "1    p1    896          15             0                      13   \n",
       "2    p2   1020          14             0                      12   \n",
       "3    p3   3920          15             0                      13   \n",
       "4    p4   4332          17             0                      15   \n",
       "5    p5   4472          13             0                      11   \n",
       "6    p6   6376          28             0                      26   \n",
       "7    p7   6980          25             0                      23   \n",
       "8    p8   7648          23             0                      21   \n",
       "9    p9   8532          21             0                      19   \n",
       "10  p10   9428          17             0                      15   \n",
       "11  p11  10592          14             0                      12   \n",
       "12  p12  10752          22             0                      20   \n",
       "13  p13  14684          11             0                       9   \n",
       "\n",
       "    remaining_burst_time_2  remaining_burst_time_3  remaining_burst_time_4  \n",
       "0                       33                      31                      29  \n",
       "1                       11                       9                       7  \n",
       "2                       10                       8                       6  \n",
       "3                       11                       9                       7  \n",
       "4                       13                      11                       9  \n",
       "5                        9                       7                       5  \n",
       "6                       24                      22                      20  \n",
       "7                       21                      19                      17  \n",
       "8                       19                      17                      15  \n",
       "9                       17                      15                      13  \n",
       "10                      13                      11                       9  \n",
       "11                      10                       8                       6  \n",
       "12                      18                      16                      14  \n",
       "13                       7                       5                       3  "
      ]
     },
     "execution_count": 15,
     "metadata": {},
     "output_type": "execute_result"
    }
   ],
   "source": [
    "df.reset_index(drop=True)"
   ]
  },
  {
   "cell_type": "code",
   "execution_count": 16,
   "metadata": {},
   "outputs": [],
   "source": [
    "# ml linear regression to predict next remaining burst time "
   ]
  },
  {
   "cell_type": "code",
   "execution_count": 17,
   "metadata": {},
   "outputs": [],
   "source": [
    "import matplotlib.pyplot as plt\n",
    "import seaborn as sns\n",
    "%matplotlib inline"
   ]
  },
  {
   "cell_type": "code",
   "execution_count": 18,
   "metadata": {},
   "outputs": [],
   "source": [
    "# EDA"
   ]
  },
  {
   "cell_type": "code",
   "execution_count": 19,
   "metadata": {},
   "outputs": [
    {
     "data": {
      "text/plain": [
       "<seaborn.axisgrid.PairGrid at 0x24e3b16ea08>"
      ]
     },
     "execution_count": 19,
     "metadata": {},
     "output_type": "execute_result"
    },
    {
     "data": {
      "image/png": "[encoded data removed]",
      "text/plain": [
       "<Figure size 720x720 with 20 Axes>"
      ]
     },
     "metadata": {
      "needs_background": "light"
     },
     "output_type": "display_data"
    }
   ],
   "source": [
    "sns.pairplot(df.iloc[:,4:])"
   ]
  },
  {
   "cell_type": "code",
   "execution_count": 20,
   "metadata": {},
   "outputs": [
    {
     "data": {
      "text/plain": [
       "<matplotlib.axes._subplots.AxesSubplot at 0x24e3ce0b348>"
      ]
     },
     "execution_count": 20,
     "metadata": {},
     "output_type": "execute_result"
    },
    {
     "data": {
      "image/png": "[encoded data removed]",
      "text/plain": [
       "<Figure size 432x288 with 2 Axes>"
      ]
     },
     "metadata": {
      "needs_background": "light"
     },
     "output_type": "display_data"
    }
   ],
   "source": [
    "sns.heatmap(df.corr())"
   ]
  },
  {
   "cell_type": "code",
   "execution_count": 21,
   "metadata": {},
   "outputs": [],
   "source": [
    "# Training "
   ]
  },
  {
   "cell_type": "code",
   "execution_count": 22,
   "metadata": {},
   "outputs": [],
   "source": [
    "X = df.iloc[:,4:-1].reset_index(drop=True)\n",
    "Y = df.iloc[:,-1].reset_index(drop=True)"
   ]
  },
  {
   "cell_type": "code",
   "execution_count": 23,
   "metadata": {},
   "outputs": [],
   "source": [
    "from sklearn.model_selection import train_test_split\n",
    "from sklearn.linear_model import LinearRegression\n",
    "from sklearn import metrics"
   ]
  },
  {
   "cell_type": "code",
   "execution_count": 24,
   "metadata": {},
   "outputs": [],
   "source": [
    "X_train, X_test, Y_train, Y_test = train_test_split(X, Y, test_size=0.4, random_state=101)"
   ]
  },
  {
   "cell_type": "code",
   "execution_count": 25,
   "metadata": {},
   "outputs": [],
   "source": [
    "lm = LinearRegression()"
   ]
  },
  {
   "cell_type": "code",
   "execution_count": 26,
   "metadata": {},
   "outputs": [
    {
     "data": {
      "text/plain": [
       "LinearRegression(copy_X=True, fit_intercept=True, n_jobs=None, normalize=False)"
      ]
     },
     "execution_count": 26,
     "metadata": {},
     "output_type": "execute_result"
    }
   ],
   "source": [
    "lm.fit(X_train,Y_train)"
   ]
  },
  {
   "cell_type": "code",
   "execution_count": 27,
   "metadata": {},
   "outputs": [],
   "source": [
    "predictions = lm.predict(X_test)"
   ]
  },
  {
   "cell_type": "code",
   "execution_count": 28,
   "metadata": {},
   "outputs": [
    {
     "data": {
      "text/html": [
       "<div>\n",
       "<style scoped>\n",
       "    .dataframe tbody tr th:only-of-type {\n",
       "        vertical-align: middle;\n",
       "    }\n",
       "\n",
       "    .dataframe tbody tr th {\n",
       "        vertical-align: top;\n",
       "    }\n",
       "\n",
       "    .dataframe thead th {\n",
       "        text-align: right;\n",
       "    }\n",
       "</style>\n",
       "<table border=\"1\" class=\"dataframe\">\n",
       "  <thead>\n",
       "    <tr style=\"text-align: right;\">\n",
       "      <th></th>\n",
       "      <th>remaining_burst_time_1</th>\n",
       "      <th>remaining_burst_time_2</th>\n",
       "      <th>remaining_burst_time_3</th>\n",
       "    </tr>\n",
       "  </thead>\n",
       "  <tbody>\n",
       "    <tr>\n",
       "      <td>0</td>\n",
       "      <td>20</td>\n",
       "      <td>18</td>\n",
       "      <td>16</td>\n",
       "    </tr>\n",
       "    <tr>\n",
       "      <td>1</td>\n",
       "      <td>12</td>\n",
       "      <td>10</td>\n",
       "      <td>8</td>\n",
       "    </tr>\n",
       "    <tr>\n",
       "      <td>2</td>\n",
       "      <td>13</td>\n",
       "      <td>11</td>\n",
       "      <td>9</td>\n",
       "    </tr>\n",
       "    <tr>\n",
       "      <td>3</td>\n",
       "      <td>9</td>\n",
       "      <td>7</td>\n",
       "      <td>5</td>\n",
       "    </tr>\n",
       "    <tr>\n",
       "      <td>4</td>\n",
       "      <td>15</td>\n",
       "      <td>13</td>\n",
       "      <td>11</td>\n",
       "    </tr>\n",
       "    <tr>\n",
       "      <td>5</td>\n",
       "      <td>11</td>\n",
       "      <td>9</td>\n",
       "      <td>7</td>\n",
       "    </tr>\n",
       "  </tbody>\n",
       "</table>\n",
       "</div>"
      ],
      "text/plain": [
       "   remaining_burst_time_1  remaining_burst_time_2  remaining_burst_time_3\n",
       "0                      20                      18                      16\n",
       "1                      12                      10                       8\n",
       "2                      13                      11                       9\n",
       "3                       9                       7                       5\n",
       "4                      15                      13                      11\n",
       "5                      11                       9                       7"
      ]
     },
     "execution_count": 28,
     "metadata": {},
     "output_type": "execute_result"
    }
   ],
   "source": [
    "X_test.reset_index(drop=True)"
   ]
  },
  {
   "cell_type": "code",
   "execution_count": 29,
   "metadata": {},
   "outputs": [
    {
     "data": {
      "text/plain": [
       "array([14.,  6.,  7.,  3.,  9.,  5.])"
      ]
     },
     "execution_count": 29,
     "metadata": {},
     "output_type": "execute_result"
    }
   ],
   "source": [
    "predictions"
   ]
  },
  {
   "cell_type": "code",
   "execution_count": 30,
   "metadata": {},
   "outputs": [
    {
     "name": "stderr",
     "output_type": "stream",
     "text": [
      "C:\\Users\\swathy\\Anaconda3\\lib\\site-packages\\ipykernel_launcher.py:1: MatplotlibDeprecationWarning: Support for uppercase single-letter colors is deprecated since Matplotlib 3.1 and will be removed in 3.3; please use lowercase instead.\n",
      "  \"\"\"Entry point for launching an IPython kernel.\n"
     ]
    },
    {
     "data": {
      "text/plain": [
       "[<matplotlib.lines.Line2D at 0x24e39f73bc8>]"
      ]
     },
     "execution_count": 30,
     "metadata": {},
     "output_type": "execute_result"
    },
    {
     "data": {
      "image/png": "[encoded data removed]",
      "text/plain": [
       "<Figure size 432x288 with 1 Axes>"
      ]
     },
     "metadata": {
      "needs_background": "light"
     },
     "output_type": "display_data"
    }
   ],
   "source": [
    "plt.scatter(Y_test, predictions, color='G')\n",
    "plt.plot(Y_test, predictions,color='k')"
   ]
  },
  {
   "cell_type": "code",
   "execution_count": 31,
   "metadata": {},
   "outputs": [
    {
     "data": {
      "text/plain": [
       "1.0"
      ]
     },
     "execution_count": 31,
     "metadata": {},
     "output_type": "execute_result"
    }
   ],
   "source": [
    "# accuracy\n",
    "lm.score(X,Y)"
   ]
  },
  {
   "cell_type": "code",
   "execution_count": 32,
   "metadata": {},
   "outputs": [
    {
     "name": "stdout",
     "output_type": "stream",
     "text": [
      "MSE: 1.6303125374567578e-29\n"
     ]
    }
   ],
   "source": [
    "# loss functions and they should be least\n",
    "print('MSE:', metrics.mean_squared_error(Y_test, predictions))"
   ]
  },
  {
   "cell_type": "markdown",
   "metadata": {},
   "source": [
    "# SJF implementation with predicted value"
   ]
  },
  {
   "cell_type": "code",
   "execution_count": 33,
   "metadata": {},
   "outputs": [
    {
     "name": "stdout",
     "output_type": "stream",
     "text": [
      "\n",
      "\n",
      "Process\t  Burst Time\t  Waiting Time\t  Turn Around Time\n",
      "3\t\t2.9999999999999947\t\t0\t\t2.9999999999999947\n",
      "\n",
      "\n",
      "5\t\t4.999999999999995\t\t2.9999999999999947\t\t7.999999999999989\n",
      "\n",
      "\n",
      "1\t\t5.9999999999999964\t\t7.999999999999989\t\t13.999999999999986\n",
      "\n",
      "\n",
      "2\t\t6.9999999999999964\t\t13.999999999999986\t\t20.999999999999982\n",
      "\n",
      "\n",
      "4\t\t8.999999999999998\t\t20.999999999999982\t\t29.99999999999998\n",
      "\n",
      "\n",
      "0\t\t13.999999999999996\t\t29.99999999999998\t\t43.99999999999997\n",
      "\n",
      "\n",
      "Average Waiting time is: 12.666666666666657\n",
      "Average Turn Arount Time is: 19.499999999999986\n"
     ]
    }
   ],
   "source": [
    "bt=predictions.tolist()     #bt stands for burst time\n",
    "processes=[0,1,2,3,4,5]\n",
    "n=len(processes)\n",
    "for i in range(0,len(bt)-1):  #applying bubble sort to sort process according to their burst time\n",
    "    for j in range(0,len(bt)-i-1):\n",
    "        if(bt[j]>bt[j+1]):\n",
    "            temp=bt[j]\n",
    "            bt[j]=bt[j+1]\n",
    "            bt[j+1]=temp\n",
    "            temp=processes[j]\n",
    "            processes[j]=processes[j+1]\n",
    "            processes[j+1]=temp\n",
    "wt=[]    #wt stands for waiting time\n",
    "avgwt=0  #average of waiting time\n",
    "tat=[]    #tat stands for turnaround time\n",
    "avgtat=0   #average of total turnaround time\n",
    "wt.insert(0,0)\n",
    "tat.insert(0,bt[0])\n",
    "for i in range(1,len(bt)):  \n",
    "    wt.insert(i,wt[i-1]+bt[i-1])\n",
    "    tat.insert(i,wt[i]+bt[i])\n",
    "    avgwt+=wt[i]\n",
    "    avgtat+=tat[i]\n",
    "avgwt=float(avgwt)/n\n",
    "avgtat=float(avgtat)/n\n",
    "print(\"\\n\")\n",
    "print(\"Process\\t  Burst Time\\t  Waiting Time\\t  Turn Around Time\")\n",
    "for i in range(0,n):\n",
    "    print(str(processes[i])+\"\\t\\t\"+str(bt[i])+\"\\t\\t\"+str(wt[i])+\"\\t\\t\"+str(tat[i]))\n",
    "    print(\"\\n\")\n",
    "print(\"Average Waiting time is: \"+str(avgwt))\n",
    "print(\"Average Turn Arount Time is: \"+str(avgtat))\n",
    "    "
   ]
  },
  {
   "cell_type": "code",
   "execution_count": 34,
   "metadata": {},
   "outputs": [
    {
     "data": {
      "image/png": "[encoded data removed]",
      "text/plain": [
       "<Figure size 432x288 with 1 Axes>"
      ]
     },
     "metadata": {
      "needs_background": "light"
     },
     "output_type": "display_data"
    }
   ],
   "source": [
    "plt.plot(wt,tat)\n",
    "# naming the x axis\n",
    "plt.xlabel('waiting time')\n",
    "# naming the y axis\n",
    "plt.ylabel('turnaround time')\n",
    "# giving a title to my graph\n",
    "plt.title('Shortest Job First')\n",
    "plt.show() "
   ]
  },
  {
   "cell_type": "markdown",
   "metadata": {},
   "source": [
    "#  SJF implementation before prediction"
   ]
  },
  {
   "cell_type": "code",
   "execution_count": 35,
   "metadata": {},
   "outputs": [
    {
     "data": {
      "text/plain": [
       "[37, 15, 14, 15, 17, 13]"
      ]
     },
     "execution_count": 35,
     "metadata": {},
     "output_type": "execute_result"
    }
   ],
   "source": [
    "bt= df['burst_time'].head(6).tolist()\n",
    "bt"
   ]
  },
  {
   "cell_type": "code",
   "execution_count": 36,
   "metadata": {},
   "outputs": [
    {
     "data": {
      "text/plain": [
       "['p0', 'p1', 'p2', 'p3', 'p4', 'p5']"
      ]
     },
     "execution_count": 36,
     "metadata": {},
     "output_type": "execute_result"
    }
   ],
   "source": [
    "processes=df['name'].head(6).tolist()\n",
    "processes"
   ]
  },
  {
   "cell_type": "code",
   "execution_count": 37,
   "metadata": {},
   "outputs": [
    {
     "name": "stdout",
     "output_type": "stream",
     "text": [
      "\n",
      "\n",
      "Process\t  Burst Time\t  Waiting Time\t  Turn Around Time\n",
      "p5\t\t13\t\t0\t\t13\n",
      "\n",
      "\n",
      "p2\t\t14\t\t13\t\t27\n",
      "\n",
      "\n",
      "p1\t\t15\t\t27\t\t42\n",
      "\n",
      "\n",
      "p3\t\t15\t\t42\t\t57\n",
      "\n",
      "\n",
      "p4\t\t17\t\t57\t\t74\n",
      "\n",
      "\n",
      "p0\t\t37\t\t74\t\t111\n",
      "\n",
      "\n",
      "Average Waiting time is: 35.5\n",
      "Average Turn Arount Time is: 51.833333333333336\n"
     ]
    }
   ],
   "source": [
    "#processes\n",
    "n=len(processes)\n",
    "for i in range(0,len(bt)-1):  #applying bubble sort to sort process according to their burst time\n",
    "    for j in range(0,len(bt)-i-1):\n",
    "        if(bt[j]>bt[j+1]):\n",
    "            temp=bt[j]\n",
    "            bt[j]=bt[j+1]\n",
    "            bt[j+1]=temp\n",
    "            temp=processes[j]\n",
    "            processes[j]=processes[j+1]\n",
    "            processes[j+1]=temp\n",
    "wt_b=[]    #wt stands for waiting time\n",
    "avgwt=0  #average of waiting time\n",
    "tat_b=[]    #tat stands for turnaround time\n",
    "avgtat=0   #average of total turnaround time\n",
    "wt_b.insert(0,0)\n",
    "tat_b.insert(0,bt[0])\n",
    "for i in range(1,len(bt)):  \n",
    "    wt_b.insert(i,wt_b[i-1]+bt[i-1])\n",
    "    tat_b.insert(i,wt_b[i]+bt[i])\n",
    "    avgwt+=wt_b[i]\n",
    "    avgtat+=tat_b[i]\n",
    "avgwt=float(avgwt)/n\n",
    "avgtat=float(avgtat)/n\n",
    "print(\"\\n\")\n",
    "print(\"Process\\t  Burst Time\\t  Waiting Time\\t  Turn Around Time\")\n",
    "for i in range(0,n):\n",
    "    print(str(processes[i])+\"\\t\\t\"+str(bt[i])+\"\\t\\t\"+str(wt_b[i])+\"\\t\\t\"+str(tat_b[i]))\n",
    "    print(\"\\n\")\n",
    "print(\"Average Waiting time is: \"+str(avgwt))\n",
    "print(\"Average Turn Arount Time is: \"+str(avgtat))"
   ]
  },
  {
   "cell_type": "code",
   "execution_count": 39,
   "metadata": {},
   "outputs": [
    {
     "data": {
      "image/png": "[encoded data removed]",
      "text/plain": [
       "<Figure size 432x288 with 1 Axes>"
      ]
     },
     "metadata": {
      "needs_background": "light"
     },
     "output_type": "display_data"
    }
   ],
   "source": [
    "plt.plot(wt_b,tat_b)\n",
    "# naming the x axis\n",
    "plt.xlabel('waiting time')\n",
    "# naming the y axis\n",
    "plt.ylabel('turnaround time')\n",
    "# giving a title to my graph\n",
    "plt.title('Shortest Job First')\n",
    "plt.show() "
   ]
  },
  {
   "cell_type": "markdown",
   "metadata": {},
   "source": [
    "# THANKS"
   ]
  }
 ],
 "metadata": {
  "kernelspec": {
   "display_name": "Python 3",
   "language": "python",
   "name": "python3"
  },
  "language_info": {
   "codemirror_mode": {
    "name": "ipython",
    "version": 3
   },
   "file_extension": ".py",
   "mimetype": "text/x-python",
   "name": "python",
   "nbconvert_exporter": "python",
   "pygments_lexer": "ipython3",
   "version": "3.8.8"
  }
 },
 "nbformat": 4,
 "nbformat_minor": 2
}
